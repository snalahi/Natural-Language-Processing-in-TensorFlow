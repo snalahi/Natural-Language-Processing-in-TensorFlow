{
 "cells": [
  {
   "cell_type": "code",
   "execution_count": 3,
   "metadata": {},
   "outputs": [],
   "source": [
    "import tensorflow as tf\n",
    "from tensorflow import keras\n",
    "from tensorflow.keras.preprocessing.text import Tokenizer\n",
    "from tensorflow.keras.preprocessing.sequence import pad_sequences"
   ]
  },
  {
   "cell_type": "code",
   "execution_count": 4,
   "metadata": {},
   "outputs": [],
   "source": [
    "sentences = [\n",
    "    'I love my dog',\n",
    "    'I love my cat',\n",
    "    'You love my dog!',\n",
    "    'Do you think my dog is amazing?'\n",
    "]\n",
    "\n",
    "test_data = [\n",
    "    'i really love my dog',\n",
    "    'my dog loves my manatee'\n",
    "]"
   ]
  },
  {
   "cell_type": "code",
   "execution_count": 18,
   "metadata": {},
   "outputs": [
    {
     "name": "stdout",
     "output_type": "stream",
     "text": [
      "<class 'list'> \n",
      "\n",
      "[[5, 3, 2, 4], [5, 3, 2, 7], [6, 3, 2, 4], [8, 6, 9, 2, 4, 10, 11]] \n",
      "\n",
      "### This is the padded sequence matrix where each row indicates a sentence in the sequence (without param): \n",
      "[[ 0  0  0  5  3  2  4]\n",
      " [ 0  0  0  5  3  2  7]\n",
      " [ 0  0  0  6  3  2  4]\n",
      " [ 8  6  9  2  4 10 11]] \n",
      "\n",
      "### This is the padded sequence matrix where each row indicates a sentence in the sequence (with param): \n",
      "**** Well this looks much nicer ****\n",
      "[[5 3 2 4 0]\n",
      " [5 3 2 7 0]\n",
      " [6 3 2 4 0]\n",
      " [8 6 9 2 4]] \n",
      "\n",
      "Test sequence: \n",
      "[[5, 1, 3, 2, 4], [2, 4, 1, 2, 1]] \n",
      "\n",
      "Padded with test sequence: \n",
      "[[0 0 0 0 0 5 1 3 2 4]\n",
      " [0 0 0 0 0 2 4 1 2 1]] \n",
      "\n",
      "{'<OOV>': 1, 'my': 2, 'love': 3, 'dog': 4, 'i': 5, 'you': 6, 'cat': 7, 'do': 8, 'think': 9, 'is': 10, 'amazing': 11}\n"
     ]
    }
   ],
   "source": [
    "# invoking the Tokenizer module with 100 unique words\n",
    "# introducing <OOV> for Out Of Vocabulary\n",
    "# it can be used when any word is unseen during the testing process\n",
    "# you can pass anything as 'oov_taken' parameter but make sure that doesn't contradict\n",
    "# with an actual word.\n",
    "tokenizer = Tokenizer(num_words=100, oov_token='<OOV>')\n",
    "\n",
    "# fit the sentences to the Tokenizer module\n",
    "tokenizer.fit_on_texts(sentences)\n",
    "\n",
    "# break down the sentences in unique words dictionary\n",
    "word_index = tokenizer.word_index\n",
    "\n",
    "# transforms the sentences into a sequence of nested list\n",
    "sequences = tokenizer.texts_to_sequences(sentences)\n",
    "\n",
    "# once the tokenizer has created the sequences, these sequences can be passed to\n",
    "# pad sequences in order to have them padded like this. The result is pretty straight forward.\n",
    "# You can now see that the list of sentences has been padded out into a matrix and that\n",
    "# each row in the matrix has the same length. It achieved this by putting the appropriate\n",
    "# number of zeros before the sentence.\n",
    "padded = pad_sequences(sequences)\n",
    "\n",
    "# Now, here are some parameters for the pad_sequences function:\n",
    "# padding='post' ==> if you want to padd at the end of the sentence\n",
    "# maxlen=5 ==> where the maximum length of a sentence is with 5 words\n",
    "# truncating='post' ==> if the length of a sentence exceeds 'maxlen', then\n",
    "#                       truncate the extra words from the end of the sentence\n",
    "# With all those parameters 'pad_sequences' function looks as the following:\n",
    "padded_with_param = pad_sequences(sequences, padding='post', truncating='post', maxlen=5)\n",
    "\n",
    "# checking on test data\n",
    "sequences_test = tokenizer.texts_to_sequences(test_data)\n",
    "\n",
    "# sequence of numbers as sequence of words in a sentence\n",
    "print(type(sequences), '\\n')\n",
    "print(sequences, '\\n')\n",
    "\n",
    "# the padded matrix takes the longest row size as the set row size and pads up other rows\n",
    "# with additional zeros to meet up that length\n",
    "print(\"### This is the padded sequence matrix where each row indicates a sentence in the sequence\",\\\n",
    "       \"(without param): \")\n",
    "print(padded, '\\n')\n",
    "print(\"### This is the padded sequence matrix where each row indicates a sentence in the sequence\",\\\n",
    "       \"(with param): \")\n",
    "print(\"**** Well this looks much nicer ****\")\n",
    "print(padded_with_param, '\\n')\n",
    "\n",
    "# it's found that the sequence prints out only those numbers which are during the mapping of words of\n",
    "# sentences to tokenizer in other words, it considers only the words in the word_index dictionary.\n",
    "# *** Unrecognized (unseen) words are not included in the sequence ***\n",
    "print('Test sequence: ')\n",
    "print(sequences_test, '\\n')\n",
    "print('Padded with test sequence: ')\n",
    "print(pad_sequences(sequences_test, maxlen=10), '\\n')\n",
    "\n",
    "# the number associated with each word is based on the total number appearance (in descending order)\n",
    "print(word_index)"
   ]
  },
  {
   "cell_type": "code",
   "execution_count": null,
   "metadata": {},
   "outputs": [],
   "source": []
  }
 ],
 "metadata": {
  "kernelspec": {
   "display_name": "Python 3",
   "language": "python",
   "name": "python3"
  },
  "language_info": {
   "codemirror_mode": {
    "name": "ipython",
    "version": 3
   },
   "file_extension": ".py",
   "mimetype": "text/x-python",
   "name": "python",
   "nbconvert_exporter": "python",
   "pygments_lexer": "ipython3",
   "version": "3.8.3"
  }
 },
 "nbformat": 4,
 "nbformat_minor": 4
}
