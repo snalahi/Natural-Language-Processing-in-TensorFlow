{
 "cells": [
  {
   "cell_type": "code",
   "execution_count": 17,
   "metadata": {},
   "outputs": [],
   "source": [
    "import requests\n",
    "import numpy as np\n",
    "import tensorflow as tf\n",
    "from tensorflow.keras.preprocessing.text import Tokenizer\n",
    "from tensorflow.keras.preprocessing.sequence import pad_sequences\n",
    "import matplotlib.pyplot as plt"
   ]
  },
  {
   "cell_type": "code",
   "execution_count": 6,
   "metadata": {},
   "outputs": [],
   "source": [
    "# tune the hyper-parameters to get a better accuracy!!!\n",
    "vocab_size = 10000\n",
    "embedding_dim = 16\n",
    "max_length = 100\n",
    "trunc_type='post'\n",
    "padding_type='post'\n",
    "oov_tok = \"<OOV>\"\n",
    "training_size = 20000"
   ]
  },
  {
   "cell_type": "code",
   "execution_count": 7,
   "metadata": {},
   "outputs": [],
   "source": [
    "# sarcasm.json\n",
    "# !gdown --id 1dRzdJS7-cZS4S5CuUc32MZYSLJGkkxnp"
   ]
  },
  {
   "cell_type": "code",
   "execution_count": 8,
   "metadata": {},
   "outputs": [],
   "source": [
    "# let's get the sarcasm dataset from web and transform it to json for further analysis\n",
    "url = 'https://storage.googleapis.com/laurencemoroney-blog.appspot.com/sarcasm.json'\n",
    "datastore = requests.get(url).json()"
   ]
  },
  {
   "cell_type": "code",
   "execution_count": 9,
   "metadata": {},
   "outputs": [],
   "source": [
    "sentences = []\n",
    "labels = []\n",
    "\n",
    "for item in datastore:\n",
    "    sentences.append(item['headline'])\n",
    "    labels.append(item['is_sarcastic'])"
   ]
  },
  {
   "cell_type": "code",
   "execution_count": 10,
   "metadata": {},
   "outputs": [],
   "source": [
    "training_sentences = sentences[0:training_size]\n",
    "testing_sentences = sentences[training_size:]\n",
    "training_labels = labels[0:training_size]\n",
    "testing_labels = labels[training_size:]"
   ]
  },
  {
   "cell_type": "code",
   "execution_count": 11,
   "metadata": {},
   "outputs": [],
   "source": [
    "tokenizer = Tokenizer(num_words=vocab_size, oov_token=oov_tok)\n",
    "tokenizer.fit_on_texts(training_sentences)\n",
    "\n",
    "word_index = tokenizer.word_index\n",
    "\n",
    "training_sequences = tokenizer.texts_to_sequences(training_sentences)\n",
    "training_padded = pad_sequences(training_sequences, maxlen=max_length, padding=padding_type,\n",
    "                                truncating=trunc_type)\n",
    "\n",
    "testing_sequences = tokenizer.texts_to_sequences(testing_sentences)\n",
    "testing_padded = pad_sequences(testing_sequences, maxlen=max_length, padding=padding_type,\n",
    "                               truncating=trunc_type)"
   ]
  },
  {
   "cell_type": "code",
   "execution_count": 13,
   "metadata": {},
   "outputs": [],
   "source": [
    "training_padded = np.array(training_padded)\n",
    "training_labels = np.array(training_labels)\n",
    "testing_padded = np.array(testing_padded)\n",
    "testing_labels = np.array(testing_labels)"
   ]
  },
  {
   "cell_type": "code",
   "execution_count": 14,
   "metadata": {},
   "outputs": [],
   "source": [
    "model = tf.keras.Sequential([\n",
    "    tf.keras.layers.Embedding(vocab_size, embedding_dim, input_length=max_length),\n",
    "    tf.keras.layers.GlobalAveragePooling1D(),\n",
    "    tf.keras.layers.Dense(24, activation='relu'),\n",
    "    tf.keras.layers.Dense(1, activation='sigmoid')\n",
    "])"
   ]
  },
  {
   "cell_type": "code",
   "execution_count": 15,
   "metadata": {},
   "outputs": [
    {
     "name": "stdout",
     "output_type": "stream",
     "text": [
      "Model: \"sequential\"\n",
      "_________________________________________________________________\n",
      "Layer (type)                 Output Shape              Param #   \n",
      "=================================================================\n",
      "embedding (Embedding)        (None, 100, 16)           160000    \n",
      "_________________________________________________________________\n",
      "global_average_pooling1d (Gl (None, 16)                0         \n",
      "_________________________________________________________________\n",
      "dense (Dense)                (None, 24)                408       \n",
      "_________________________________________________________________\n",
      "dense_1 (Dense)              (None, 1)                 25        \n",
      "=================================================================\n",
      "Total params: 160,433\n",
      "Trainable params: 160,433\n",
      "Non-trainable params: 0\n",
      "_________________________________________________________________\n"
     ]
    }
   ],
   "source": [
    "model.compile(loss='binary_crossentropy',optimizer='adam',metrics=['accuracy'])\n",
    "model.summary()"
   ]
  },
  {
   "cell_type": "code",
   "execution_count": 16,
   "metadata": {},
   "outputs": [
    {
     "name": "stdout",
     "output_type": "stream",
     "text": [
      "Epoch 1/30\n",
      "625/625 - 6s - loss: 0.6742 - accuracy: 0.5728 - val_loss: 0.6157 - val_accuracy: 0.7767\n",
      "Epoch 2/30\n",
      "625/625 - 2s - loss: 0.4380 - accuracy: 0.8260 - val_loss: 0.3799 - val_accuracy: 0.8423\n",
      "Epoch 3/30\n",
      "625/625 - 2s - loss: 0.3079 - accuracy: 0.8769 - val_loss: 0.3648 - val_accuracy: 0.8393\n",
      "Epoch 4/30\n",
      "625/625 - 2s - loss: 0.2566 - accuracy: 0.8997 - val_loss: 0.3419 - val_accuracy: 0.8574\n",
      "Epoch 5/30\n",
      "625/625 - 2s - loss: 0.2219 - accuracy: 0.9148 - val_loss: 0.3427 - val_accuracy: 0.8574\n",
      "Epoch 6/30\n",
      "625/625 - 2s - loss: 0.1937 - accuracy: 0.9257 - val_loss: 0.3609 - val_accuracy: 0.8521\n",
      "Epoch 7/30\n",
      "625/625 - 2s - loss: 0.1731 - accuracy: 0.9363 - val_loss: 0.3707 - val_accuracy: 0.8532\n",
      "Epoch 8/30\n",
      "625/625 - 2s - loss: 0.1540 - accuracy: 0.9423 - val_loss: 0.3774 - val_accuracy: 0.8547\n",
      "Epoch 9/30\n",
      "625/625 - 2s - loss: 0.1391 - accuracy: 0.9485 - val_loss: 0.4046 - val_accuracy: 0.8475\n",
      "Epoch 10/30\n",
      "625/625 - 2s - loss: 0.1242 - accuracy: 0.9574 - val_loss: 0.4215 - val_accuracy: 0.8493\n",
      "Epoch 11/30\n",
      "625/625 - 2s - loss: 0.1138 - accuracy: 0.9606 - val_loss: 0.4535 - val_accuracy: 0.8423\n",
      "Epoch 12/30\n",
      "625/625 - 2s - loss: 0.1038 - accuracy: 0.9645 - val_loss: 0.4651 - val_accuracy: 0.8457\n",
      "Epoch 13/30\n",
      "625/625 - 2s - loss: 0.0943 - accuracy: 0.9682 - val_loss: 0.5499 - val_accuracy: 0.8256\n",
      "Epoch 14/30\n",
      "625/625 - 2s - loss: 0.0859 - accuracy: 0.9715 - val_loss: 0.5199 - val_accuracy: 0.8407\n",
      "Epoch 15/30\n",
      "625/625 - 2s - loss: 0.0788 - accuracy: 0.9744 - val_loss: 0.5480 - val_accuracy: 0.8399\n",
      "Epoch 16/30\n",
      "625/625 - 2s - loss: 0.0725 - accuracy: 0.9761 - val_loss: 0.5806 - val_accuracy: 0.8377\n",
      "Epoch 17/30\n",
      "625/625 - 2s - loss: 0.0662 - accuracy: 0.9783 - val_loss: 0.6283 - val_accuracy: 0.8316\n",
      "Epoch 18/30\n",
      "625/625 - 2s - loss: 0.0627 - accuracy: 0.9797 - val_loss: 0.6439 - val_accuracy: 0.8314\n",
      "Epoch 19/30\n",
      "625/625 - 2s - loss: 0.0549 - accuracy: 0.9840 - val_loss: 0.6719 - val_accuracy: 0.8298\n",
      "Epoch 20/30\n",
      "625/625 - 2s - loss: 0.0517 - accuracy: 0.9836 - val_loss: 0.7011 - val_accuracy: 0.8271\n",
      "Epoch 21/30\n",
      "625/625 - 2s - loss: 0.0475 - accuracy: 0.9858 - val_loss: 0.7462 - val_accuracy: 0.8219\n",
      "Epoch 22/30\n",
      "625/625 - 2s - loss: 0.0443 - accuracy: 0.9868 - val_loss: 0.7709 - val_accuracy: 0.8262\n",
      "Epoch 23/30\n",
      "625/625 - 2s - loss: 0.0387 - accuracy: 0.9888 - val_loss: 0.8319 - val_accuracy: 0.8211\n",
      "Epoch 24/30\n",
      "625/625 - 2s - loss: 0.0355 - accuracy: 0.9899 - val_loss: 0.8482 - val_accuracy: 0.8188\n",
      "Epoch 25/30\n",
      "625/625 - 2s - loss: 0.0333 - accuracy: 0.9906 - val_loss: 0.8879 - val_accuracy: 0.8171\n",
      "Epoch 26/30\n",
      "625/625 - 2s - loss: 0.0305 - accuracy: 0.9919 - val_loss: 0.9239 - val_accuracy: 0.8176\n",
      "Epoch 27/30\n",
      "625/625 - 2s - loss: 0.0281 - accuracy: 0.9918 - val_loss: 0.9632 - val_accuracy: 0.8138\n",
      "Epoch 28/30\n",
      "625/625 - 2s - loss: 0.0298 - accuracy: 0.9908 - val_loss: 0.9917 - val_accuracy: 0.8155\n",
      "Epoch 29/30\n",
      "625/625 - 2s - loss: 0.0239 - accuracy: 0.9937 - val_loss: 1.0323 - val_accuracy: 0.8135\n",
      "Epoch 30/30\n",
      "625/625 - 2s - loss: 0.0232 - accuracy: 0.9935 - val_loss: 1.0737 - val_accuracy: 0.8122\n"
     ]
    }
   ],
   "source": [
    "num_epochs = 30\n",
    "history = model.fit(training_padded, training_labels, epochs=num_epochs,\n",
    "                    validation_data=(testing_padded, testing_labels), verbose=2)"
   ]
  },
  {
   "cell_type": "code",
   "execution_count": 18,
   "metadata": {},
   "outputs": [
    {
     "data": {
      "image/png": "[encoded data removed]",
      "text/plain": [
       "<Figure size 432x288 with 1 Axes>"
      ]
     },
     "metadata": {
      "needs_background": "light"
     },
     "output_type": "display_data"
    },
    {
     "data": {
      "image/png": "[encoded data removed]",
      "text/plain": [
       "<Figure size 432x288 with 1 Axes>"
      ]
     },
     "metadata": {
      "needs_background": "light"
     },
     "output_type": "display_data"
    }
   ],
   "source": [
    "def plot_graphs(history, string):\n",
    "  plt.plot(history.history[string])\n",
    "  plt.plot(history.history['val_'+string])\n",
    "  plt.xlabel(\"Epochs\")\n",
    "  plt.ylabel(string)\n",
    "  plt.legend([string, 'val_'+string])\n",
    "  plt.show()\n",
    "  \n",
    "plot_graphs(history, \"accuracy\")\n",
    "plot_graphs(history, \"loss\")"
   ]
  },
  {
   "cell_type": "code",
   "execution_count": 19,
   "metadata": {},
   "outputs": [
    {
     "name": "stdout",
     "output_type": "stream",
     "text": [
      "former <OOV> store clerk sues over secret 'black <OOV> for minority shoppers ? ? ? ? ? ? ? ? ? ? ? ? ? ? ? ? ? ? ? ? ? ? ? ? ? ? ? ? ? ? ? ? ? ? ? ? ? ? ? ? ? ? ? ? ? ? ? ? ? ? ? ? ? ? ? ? ? ? ? ? ? ? ? ? ? ? ? ? ? ? ? ? ? ? ? ? ? ? ? ? ? ? ? ? ? ? ? ?\n",
      "mom starting to fear son's web series closest thing she will have to grandchild\n",
      "1\n"
     ]
    }
   ],
   "source": [
    "reverse_word_index = dict([(value, key) for (key, value) in word_index.items()])\n",
    "\n",
    "def decode_sentence(text):\n",
    "    return ' '.join([reverse_word_index.get(i, '?') for i in text])\n",
    "\n",
    "print(decode_sentence(training_padded[0]))\n",
    "print(training_sentences[2])\n",
    "print(labels[2])"
   ]
  },
  {
   "cell_type": "code",
   "execution_count": 20,
   "metadata": {},
   "outputs": [
    {
     "name": "stdout",
     "output_type": "stream",
     "text": [
      "(10000, 16)\n"
     ]
    }
   ],
   "source": [
    "e = model.layers[0]\n",
    "weights = e.get_weights()[0]\n",
    "print(weights.shape) # shape: (vocab_size, embedding_dim)"
   ]
  },
  {
   "cell_type": "code",
   "execution_count": 21,
   "metadata": {},
   "outputs": [],
   "source": [
    "import io\n",
    "\n",
    "out_v = io.open('vecs.tsv', 'w', encoding='utf-8')\n",
    "out_m = io.open('meta.tsv', 'w', encoding='utf-8')\n",
    "for word_num in range(1, vocab_size):\n",
    "  word = reverse_word_index[word_num]\n",
    "  embeddings = weights[word_num]\n",
    "  out_m.write(word + \"\\n\")\n",
    "  out_v.write('\\t'.join([str(x) for x in embeddings]) + \"\\n\")\n",
    "out_v.close()\n",
    "out_m.close()"
   ]
  },
  {
   "cell_type": "code",
   "execution_count": 22,
   "metadata": {},
   "outputs": [],
   "source": [
    "try:\n",
    "  from google.colab import files\n",
    "except ImportError:\n",
    "  pass\n",
    "else:\n",
    "  files.download('vecs.tsv')\n",
    "  files.download('meta.tsv')"
   ]
  },
  {
   "cell_type": "code",
   "execution_count": 23,
   "metadata": {},
   "outputs": [
    {
     "name": "stdout",
     "output_type": "stream",
     "text": [
      "[[9.3310714e-01]\n",
      " [1.8875524e-05]]\n"
     ]
    }
   ],
   "source": [
    "sentence = [\"granny starting to fear spiders in the garden might be real\",\n",
    "            \"game of thrones season finale showing this sunday night\"]\n",
    "sequences = tokenizer.texts_to_sequences(sentence)\n",
    "padded = pad_sequences(sequences, maxlen=max_length, padding=padding_type, truncating=trunc_type)\n",
    "print(model.predict(padded))"
   ]
  },
  {
   "cell_type": "code",
   "execution_count": null,
   "metadata": {},
   "outputs": [],
   "source": []
  }
 ],
 "metadata": {
  "kernelspec": {
   "display_name": "Python 3",
   "language": "python",
   "name": "python3"
  },
  "language_info": {
   "codemirror_mode": {
    "name": "ipython",
    "version": 3
   },
   "file_extension": ".py",
   "mimetype": "text/x-python",
   "name": "python",
   "nbconvert_exporter": "python",
   "pygments_lexer": "ipython3",
   "version": "3.8.3"
  }
 },
 "nbformat": 4,
 "nbformat_minor": 4
}
